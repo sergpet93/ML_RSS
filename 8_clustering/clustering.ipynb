{
  "cells": [
    {
      "cell_type": "markdown",
      "metadata": {
        "id": "HkrDup7QSwmG"
      },
      "source": [
        "Each task that is proposed to be completed as part of the homework has a declared \"price\" in points. The maximum possible amount is 10 points, and together with the bonus assignment - 12 points. It is not necessary to complete all the tasks, only a part can be done. Most of the points expect you to write working Python code; sometimes you will need to write comments - for example, to compare several approaches to solve the same problem. Also you can add more cells for your convenience if you need."
      ]
    },
    {
      "cell_type": "markdown",
      "metadata": {
        "id": "UmxdmsJZSwmJ"
      },
      "source": [
        "This homework focuses on clustering. We will work with images of handwritten digits, learn how to cluster them using two different methods (hierarchical clustering and the 𝐾-means algorithm), evaluate the quality of the partition and choose the optimal number of clusters, as well as visualize intermediate results."
      ]
    },
    {
      "cell_type": "markdown",
      "metadata": {
        "id": "8v3VOYBfSwmK"
      },
      "source": [
        "## 1. Loading data\n",
        "The data we will be working with is available in the scikit-learn library (`sklearn` module) in the `datasets` submodule via the `load_digits` function. The data contains 1,797 observations, each of which is 8×8 pixel image of a handwritten digit from 0 to 9. This is about the same amount of each digit (about 180).\n",
        "\n",
        "For convenience, every image expands to a 64 (8×8) row, so entire numpy array is 1797×64. The color intensity in each pixel is encoded with an integer from 0 to 16.\n",
        "\n",
        "In addition to images, their labels are also known. In this task, we will assume that the labels (as well as their amount) are unknown and try to group the data in such a way that the resulting clusters 'better match' the original ones. Possible options for determining the 'better match' are presented later."
      ]
    },
    {
      "cell_type": "markdown",
      "metadata": {
        "id": "oDuvm95sSwmK"
      },
      "source": [
        "**(0.25 points)** Load the images into `X` variable, and their labels into `y` variable."
      ]
    },
    {
      "cell_type": "code",
      "execution_count": 1,
      "metadata": {
        "id": "h1pa5X75SwmL"
      },
      "outputs": [],
      "source": [
        "import os\n",
        "import numpy as np\n",
        "import pandas as pd\n",
        "import seaborn as sns\n",
        "import matplotlib.pyplot as plt\n",
        "from sklearn import datasets\n",
        "from sklearn.cluster import AgglomerativeClustering, KMeans, DBSCAN\n",
        "from sklearn.metrics import silhouette_score,v_measure_score, confusion_matrix"
      ]
    },
    {
      "cell_type": "code",
      "execution_count": 2,
      "metadata": {
        "id": "piJCVjX8SwmM"
      },
      "outputs": [],
      "source": [
        "X, y = datasets.load_digits(n_class=10, return_X_y=True)"
      ]
    },
    {
      "cell_type": "code",
      "execution_count": 3,
      "metadata": {
        "id": "IZQ7Fp9oSwmN"
      },
      "outputs": [],
      "source": [
        "assert X.shape == (1797, 64)\n",
        "assert y.shape == (1797,)"
      ]
    },
    {
      "cell_type": "markdown",
      "metadata": {
        "id": "TaGVGtA-SwmN"
      },
      "source": [
        "**(0.5 points)** Visualize the first 10 images.\n",
        "\n",
        "- Arrange images on a grid rather than in a row. You may need the `subplot` and `imshow` functions from the `pyplot` module in the `matplotlib` library.\n",
        "- You will also need to reshape the images to 8×8.\n",
        "- Remove ticks and labels from both axes. The `xticks` and `yticks` functions or the `tick_params` function from `pyplot` can help you with this.\n",
        "- Make the output good sized with the `figure` function from `pyplot`."
      ]
    },
    {
      "cell_type": "code",
      "execution_count": 4,
      "metadata": {
        "colab": {
          "base_uri": "https://localhost:8080/",
          "height": 291
        },
        "id": "AuQfMN9TSwmO",
        "outputId": "eea0acff-f1a9-4e0d-e2d5-ddddec3b7564"
      },
      "outputs": [
        {
          "output_type": "display_data",
          "data": {
            "text/plain": [
              "<Figure size 720x360 with 10 Axes>"
            ],
            "image/png": "[encoded data removed]"
          },
          "metadata": {
            "needs_background": "light"
          }
        }
      ],
      "source": [
        "_, axes = plt.subplots(nrows=2, ncols=5, figsize=(10, 5))\n",
        "for ax, image, label in zip(axes.flatten(), X, y):\n",
        "    ax.set_axis_off()\n",
        "    ax.imshow(image.reshape((8, 8)), cmap=plt.cm.gray_r)\n",
        "    ax.set_title(label)"
      ]
    },
    {
      "cell_type": "markdown",
      "metadata": {
        "id": "aLJSJR7zSwmP"
      },
      "source": [
        "## 2. Clustering and quality evaluation"
      ]
    },
    {
      "cell_type": "markdown",
      "metadata": {
        "id": "sWFYkUIKSwmQ"
      },
      "source": [
        "**(2 points)** Implement the the KMeans algorithm. Use objective function $L = \\sum_{i=1}^{n}|x_{i}-Z_{A(x_{i})}|^{2}$, where $Z_{A(x_{i})}$ is the center of the cluster corresponding to $x_{i}$ object."
      ]
    },
    {
      "cell_type": "code",
      "execution_count": 5,
      "metadata": {
        "id": "Y6Ikguz3SwmQ"
      },
      "outputs": [],
      "source": [
        "from sklearn.exceptions import NotFittedError\n",
        "from numpy.random import RandomState"
      ]
    },
    {
      "cell_type": "code",
      "execution_count": 6,
      "metadata": {
        "id": "dO95Ndn4SwmQ"
      },
      "outputs": [],
      "source": [
        "class CustomKMeans:\n",
        "    def __init__(self, n_clusters=2, max_iter=30, n_init=10, random_state=42):\n",
        "        '''K-Means clustering.\n",
        "        \n",
        "        Args:\n",
        "            n_clusters: int, default=2\n",
        "                The number of clusters to be formed is also \n",
        "                the number of centroids to generate. \n",
        "            max_iter: int, default=300\n",
        "                Maximum number of iterations of the k-means algorithm for a\n",
        "                single run.\n",
        "            n_init: int, default=10\n",
        "                Number of time the k-means algorithm will be run with different\n",
        "                centroid seeds. The final results will be the best output of\n",
        "                n_init consecutive runs in terms of objective function.\n",
        "            random_state: int, default=42\n",
        "                Random state.\n",
        "        '''\n",
        "        self.n_clusters = n_clusters\n",
        "        self.n_init = n_init\n",
        "        self.max_iter = max_iter\n",
        "        self.random_state = RandomState(seed=random_state)\n",
        "        \n",
        "    def calculate_distances_to_centroids(self, X, cluster_centers):\n",
        "        \"\"\"\n",
        "        Returns (n, c) matrix where the element at position (i, j) \n",
        "        is the distance from i-th object to j-th centroid.\"\"\"\n",
        "        # <your code>\n",
        "        X_2 = np.sum(X**2, axis =1).reshape((X.shape[0],1)) * np.ones(shape=(1,cluster_centers.shape[0]))\n",
        "        cluster_centers_2 = np.sum(cluster_centers**2, axis =1) * np.ones(shape=(X.shape[0],1))\n",
        "        distances = np.sqrt(X_2 + cluster_centers_2 -2 * X.dot(np.transpose(cluster_centers)))\n",
        "        return distances\n",
        "    \n",
        "    def update_centroids(self, X, nearest_clusters):\n",
        "        \"\"\"\n",
        "        Returns numpy array of shape (n_clusters, n_features) - \n",
        "        new clusters that are found by averaging objects belonging \n",
        "        to the corresponding cluster.\"\"\"\n",
        "        cluster_centers_update = np.empty((self.n_clusters, X.shape[1]))\n",
        "        for i in (np.unique(nearest_clusters)):\n",
        "            cluster_centers_update[i, :] = np.mean(X[nearest_clusters == i, :], axis=0)\n",
        "        return cluster_centers_update    \n",
        "        \n",
        "    def objective_func(self, X, cluster):\n",
        "        objective = 0\n",
        "        for i in range(self.n_clusters):\n",
        "            X_mean = np.mean(X[cluster==i], axis=0)\n",
        "            objective+= (np.linalg.norm(X[cluster==i]-X_mean))**2\n",
        "        return objective\n",
        "    \n",
        "    def fit(self, X):\n",
        "        \"\"\"Fit the model.\n",
        "        \n",
        "        Args:\n",
        "            X: numpy array of shape (n_samples, n_features)\n",
        "        \"\"\"\n",
        "        assert X.shape[0] >= self.n_clusters\n",
        "        #clusters = np.empty(X.shape[0])\n",
        "        #print(clusters.shape)\n",
        "        if not (hasattr(self, 'cluster_centers_')):\n",
        "            self.cluster_centers_ = np.zeros((self.n_clusters, X.shape[1]))\n",
        "        \n",
        "        self.dict_cluster = dict()\n",
        "        self.object = dict()\n",
        "        \n",
        "        \n",
        "        for _ in range(self.n_init):\n",
        "            point = []\n",
        "            for i in range(self.n_clusters):\n",
        "                point_rand = self.random_state.randint(X.shape[0]-1)\n",
        "                while point_rand in point:\n",
        "                    point_rand = self.random_state.randint(X.shape[0]-1)\n",
        "                point.append(point_rand)\n",
        "                self.cluster_centers_[i] = X[point_rand]\n",
        "            for i in range(self.max_iter):\n",
        "                distances = self.calculate_distances_to_centroids(X, self.cluster_centers_)\n",
        "                nearest_clusters = np.argmin(distances, axis = 1)\n",
        "                self.cluster_centers_ = self.update_centroids(X, nearest_clusters)\n",
        "            \n",
        "            self.dict_cluster[self.n_init] = self.cluster_centers_ \n",
        "            self.object[self.n_init] = self.objective_func(X, np.argmin(distances,axis=1))\n",
        "            \n",
        "        n_init_best = min(self.object, key=self.object.get)    \n",
        "        self.cluster_centers_ =self.dict_cluster[n_init_best]       \n",
        "                \n",
        "        return self\n",
        "            \n",
        "    \n",
        "    def predict(self, X):\n",
        "        \"\"\"Predict classes.\n",
        "        \n",
        "        Args:\n",
        "            X: numpy array of shape (n_samples, n_features)\n",
        "        Returns:\n",
        "            y: numpy array of shape (n_samples,)\n",
        "                Vector containing predicted cluster labels.\n",
        "        \"\"\"\n",
        "        if hasattr(self, 'cluster_centers_'):\n",
        "            distan = self.calculate_distances_to_centroids(X, self.cluster_centers_)\n",
        "            labels_ = np.argmin(distan, axis=1)\n",
        "            return labels_\n",
        "        else: \n",
        "            raise NotFittedError(\"CustomKMeans instance is not fitted yet\")"
      ]
    },
    {
      "cell_type": "markdown",
      "metadata": {
        "id": "X3EteXZkSwmR"
      },
      "source": [
        "**(1 points)** Get the `X` array partition into 10 clusters. Visualize the centers of clusters.\n",
        "- We will assume that the center of the cluster is average value of all observations belonging to the cluster.\n",
        "- The cluster centers should have the same shape as our observations (64). So you have to average the points across the rows."
      ]
    },
    {
      "cell_type": "code",
      "execution_count": 7,
      "metadata": {
        "id": "WTInAXzvSwmR"
      },
      "outputs": [],
      "source": [
        "kmeans = CustomKMeans(n_clusters = 10).fit(X)\n",
        "custor_kmeans_labels = kmeans.predict(X)\n",
        "assert custor_kmeans_labels.shape == (1797,)"
      ]
    },
    {
      "cell_type": "code",
      "execution_count": 8,
      "metadata": {
        "id": "B1x1AD41SwmS"
      },
      "outputs": [],
      "source": [
        "def plot_digits(labels):\n",
        "    plt.figure(figsize=(10, 5))\n",
        "    image = X.reshape(-1, 8, 8)\n",
        "    for i in range(10):\n",
        "        plt.subplot(2, 5, i+1, xticks=[], yticks=[])\n",
        "        plt.imshow(np.mean(image[labels==i], axis = 0), cmap=plt.cm.gray_r)"
      ]
    },
    {
      "cell_type": "code",
      "execution_count": 9,
      "metadata": {
        "colab": {
          "base_uri": "https://localhost:8080/",
          "height": 279
        },
        "id": "X3VsLJRQSwmS",
        "outputId": "f7df5fbd-5e49-4e79-c2cd-7e921d9209c4"
      },
      "outputs": [
        {
          "output_type": "display_data",
          "data": {
            "text/plain": [
              "<Figure size 720x360 with 10 Axes>"
            ],
            "image/png": "[encoded data removed]"
          },
          "metadata": {}
        }
      ],
      "source": [
        "plot_digits(custor_kmeans_labels)"
      ]
    },
    {
      "cell_type": "markdown",
      "source": [
        "При дальнейшем анализе будем использовать библиотечный KMeans для получения более достоверного анализа."
      ],
      "metadata": {
        "id": "BNrGL_gP2zS4"
      }
    },
    {
      "cell_type": "markdown",
      "metadata": {
        "id": "hReC03d0SwmT"
      },
      "source": [
        "**(0.5 points)** Experiment with `max_iter` and `n_init` parameters. Look at the range of values of the objective function, it's best values, at what parameters and how often they are achieved."
      ]
    },
    {
      "cell_type": "code",
      "execution_count": 10,
      "metadata": {
        "id": "WS_4-VJkSwmT"
      },
      "outputs": [],
      "source": [
        "def plot_fitting_graph(x, objective):\n",
        "    plt.figure(figsize=(15,5))\n",
        "    for key in objective:\n",
        "        plt.plot(x, objective[key], label=f'max_iter: {key}') \n",
        "        plt.grid()\n",
        "    plt.xlabel('n_init')\n",
        "    plt.ylabel('objective function')\n",
        "    plt.legend()\n",
        "    plt.show()\n",
        "\n"
      ]
    },
    {
      "cell_type": "code",
      "execution_count": 11,
      "metadata": {
        "colab": {
          "base_uri": "https://localhost:8080/",
          "height": 346
        },
        "id": "4_yEOGJsSwmT",
        "outputId": "0cf2cfab-d742-45e3-fb48-54630f6978cd",
        "scrolled": true
      },
      "outputs": [
        {
          "output_type": "display_data",
          "data": {
            "text/plain": [
              "<Figure size 1080x360 with 1 Axes>"
            ],
            "image/png": "[encoded data removed]"
          },
          "metadata": {
            "needs_background": "light"
          }
        }
      ],
      "source": [
        "values_max_iter = np.linspace(10, 800, 1 + 10, dtype=int)\n",
        "values_n_init = np.linspace(1, 100, 1+ 10, dtype=int)\n",
        "objective = dict()\n",
        "for i in values_max_iter:\n",
        "    objective_iter = []\n",
        "    for j in values_n_init:\n",
        "        kmeans = KMeans(n_init = j, max_iter = i)\n",
        "        kmeans_labels = kmeans.fit_predict(X)\n",
        "        objective_iter.append(kmeans.inertia_)\n",
        "    objective[i] = objective_iter   \n",
        "plot_fitting_graph(values_n_init, objective)        "
      ]
    },
    {
      "cell_type": "code",
      "execution_count": 12,
      "metadata": {
        "colab": {
          "base_uri": "https://localhost:8080/"
        },
        "id": "np6Xl3EcSwmU",
        "outputId": "a9454cad-1dbd-4665-9e91-d327bc33c293",
        "scrolled": true
      },
      "outputs": [
        {
          "output_type": "stream",
          "name": "stdout",
          "text": [
            "Минимальное значение objective function равно 1264970.642094036 при max_iter равном 247 \n",
            "Максимальное значение objective function равно 1321916.1389655229 при max_iter равном 721 \n"
          ]
        }
      ],
      "source": [
        "print(f'Минимальное значение objective function равно {min(min(objective.values()))} при max_iter равном {min(objective, key=objective.get)} ')\n",
        "print(f'Максимальное значение objective function равно {max(max(objective.values()))} при max_iter равном {max(objective, key=objective.get)} ')"
      ]
    },
    {
      "cell_type": "markdown",
      "metadata": {
        "id": "1_o_JqGfSwmV"
      },
      "source": [
        "На основании графика и расчетов можно сделать вывод, что значение objective function уменьшается при увеличении параметра max_iter до определенного момента, после чего существенно начинает возрастать. В нашем случае минимальное значение objective function принимает значение 1264970.642094036 при max_iter равном 247, а максимальное значение 1321916.1389655229 при max_iter равном 721. Рассмотрим как меняется значение objective function при изменении параметра n_init при max_iter равном 247."
      ]
    },
    {
      "cell_type": "code",
      "execution_count": 13,
      "metadata": {
        "colab": {
          "base_uri": "https://localhost:8080/",
          "height": 346
        },
        "id": "m4tJ8FmOSwmV",
        "outputId": "08dd59f5-addf-46cd-fdfc-20da8049275e",
        "scrolled": true
      },
      "outputs": [
        {
          "output_type": "display_data",
          "data": {
            "text/plain": [
              "<Figure size 1080x360 with 1 Axes>"
            ],
            "image/png": "[encoded data removed]"
          },
          "metadata": {
            "needs_background": "light"
          }
        }
      ],
      "source": [
        "plt.figure(figsize=(15,5))\n",
        "plt.plot(values_n_init, min(objective.values()), label=f'max_iter: {min(objective, key=objective.get)}') \n",
        "plt.axvline(values_n_init[np.argmin(min(objective.values()))], color='C1', lw=10, alpha=0.2)\n",
        "plt.xlabel('n_init')\n",
        "plt.ylabel('objective function')\n",
        "plt.legend()\n",
        "plt.show()"
      ]
    },
    {
      "cell_type": "code",
      "execution_count": 14,
      "metadata": {
        "colab": {
          "base_uri": "https://localhost:8080/"
        },
        "id": "CURng0-tSwmV",
        "outputId": "7af61036-dc6b-47a7-861a-5cfca9da19e6",
        "scrolled": true
      },
      "outputs": [
        {
          "output_type": "stream",
          "name": "stdout",
          "text": [
            "Минимальное значение objective function при n_init равным: 20\n"
          ]
        }
      ],
      "source": [
        "print(f'Минимальное значение objective function при n_init равным: {values_n_init[np.argmin(min(objective.values()))]}' )"
      ]
    },
    {
      "cell_type": "markdown",
      "metadata": {
        "id": "fpn5c3osSwmW"
      },
      "source": [
        "Мы видим, что при изменении параметра n_init изменяется значения objective function до определенного момента, после чего objective function существенно не изменяется. В нашем случае наилучшие значение данного параметра достигается при n_init равном 20."
      ]
    },
    {
      "cell_type": "markdown",
      "metadata": {
        "id": "sShcfpotSwmW"
      },
      "source": [
        "Now we will use two popular algorithms: hierarchical clustering and $K$-means clustering. These and other algorithms are available in the `scikit-learn` module in the `cluster` submodule. Hierarchical clustering is called `AgglomerativeClustering`, and the $K$-means method is called `KMeans`.\n",
        "\n",
        "**(0.5 points)** Use each of the two methods: hierarchical clustering and KMeans. Get the `X` array partition into 10 clusters.\n",
        "\n",
        "- Note that `AgglomerativeClustering` does not have a `predict` method, so you can either use the `fit_predict` method or use the `fit` method and then look at the `labels_` attribute of the class instance.\n",
        "- Kmeans performs multiple runs (default 10) with random centers and then returns the best partition in terms of average distance within the clusters. You can increase the number of runs to improve the quality of predictions in the `i_init` parameter."
      ]
    },
    {
      "cell_type": "code",
      "execution_count": 15,
      "metadata": {
        "id": "1EYCiS0bSwmW"
      },
      "outputs": [],
      "source": [
        "model_hierarchical = AgglomerativeClustering(n_clusters=10)\n",
        "hierarchical_labels = model_hierarchical.fit_predict(X)\n",
        "\n",
        "model_kmeans = KMeans(n_clusters=10, n_init=50) \n",
        "kmeans_labels = model_kmeans.fit_predict(X)"
      ]
    },
    {
      "cell_type": "code",
      "execution_count": 16,
      "metadata": {
        "id": "bnuUgMDjSwmW"
      },
      "outputs": [],
      "source": [
        "assert hierarchical_labels.shape == (1797,)\n",
        "assert kmeans_labels.shape == (1797,)"
      ]
    },
    {
      "cell_type": "markdown",
      "metadata": {
        "id": "HWD1YdXnSwmX"
      },
      "source": [
        "**(0.5 points)** Visualize the centers of clusters obtained by both methods."
      ]
    },
    {
      "cell_type": "code",
      "execution_count": 17,
      "metadata": {
        "colab": {
          "base_uri": "https://localhost:8080/",
          "height": 296
        },
        "id": "41FrG2X6SwmX",
        "outputId": "c8266b56-e623-41b1-db23-b1f1af645d8f"
      },
      "outputs": [
        {
          "output_type": "stream",
          "name": "stdout",
          "text": [
            "Cluster centers of AgglomerativeClustering\n"
          ]
        },
        {
          "output_type": "display_data",
          "data": {
            "text/plain": [
              "<Figure size 720x360 with 10 Axes>"
            ],
            "image/png": "[encoded data removed]"
          },
          "metadata": {}
        }
      ],
      "source": [
        "print('Cluster centers of AgglomerativeClustering')\n",
        "plot_digits(hierarchical_labels)"
      ]
    },
    {
      "cell_type": "code",
      "execution_count": 18,
      "metadata": {
        "colab": {
          "base_uri": "https://localhost:8080/",
          "height": 296
        },
        "id": "_SiJlsQzSwmX",
        "outputId": "5f7e746d-c8e4-4e67-c37f-6ecb1225d4e0"
      },
      "outputs": [
        {
          "output_type": "stream",
          "name": "stdout",
          "text": [
            "Cluster centers of KMeans\n"
          ]
        },
        {
          "output_type": "display_data",
          "data": {
            "text/plain": [
              "<Figure size 720x360 with 10 Axes>"
            ],
            "image/png": "[encoded data removed]"
          },
          "metadata": {}
        }
      ],
      "source": [
        "print('Cluster centers of KMeans')\n",
        "plot_digits(kmeans_labels)"
      ]
    },
    {
      "cell_type": "markdown",
      "metadata": {
        "id": "Qtbac--oSwmY"
      },
      "source": [
        "Мы видим, что при использовании алгоритма KMeans достигается более четкие распознавания цифр, по сравнению с алгоритмом Agglomerative, где изображение выглядят более размытыми так как различные цифры попадают в один кластер."
      ]
    },
    {
      "cell_type": "markdown",
      "metadata": {
        "id": "oQJxK6rsSwmY"
      },
      "source": [
        "In a situation where the true number of classes is unknown, we can select it by maximazing some metric.\n",
        "\n",
        "When we can set some distance function between our observations, we can consider the `silhouette` distance as a function of measuring the quality of the clustering. Let's show how it is calculated:"
      ]
    },
    {
      "cell_type": "markdown",
      "metadata": {
        "id": "rDMKkWhQSwmY"
      },
      "source": [
        "Let $X$ – set of observations, $M \\subset X$ – one of the clusters obtained as a result of clustering process, $\\rho$ – some metric on $X$. Let's choose one observation $x \\in M$. Denote $a(x)$ as the average distance from $x$ to  $x'$ points from the same cluster:\n",
        "$$\n",
        "a(x) = \\frac{1}{|M| - 1} \\sum_{x' \\in M,\\, x' \\ne x} \\rho(x,\\, x')\n",
        "$$\n",
        "\n",
        "Denote $b(x)$ as minimun of average distances from $x$ to $x''$ from some other cluster $N$:\n",
        "$$\n",
        "b(x) = \\min_{N \\ne M} \\frac{1}{|N|} \\sum_{x'' \\in N} \\rho(x,\\, x'')\n",
        "$$\n",
        "\n",
        "The silhouette is difference between a(x) and b(x), normalized to $[-1, \\, 1]$ and averaged over all observations:\n",
        "$$\n",
        "\\frac{1}{|X|} \\sum_{x \\in X} \\frac{b(x) - a(x)}{\\max(a(x),\\, b(x))}\n",
        "$$\n",
        "\n",
        "The implementation of this metric in the `scikit-learn` is the `silhouette_score` function from the `metrics` submidule."
      ]
    },
    {
      "cell_type": "markdown",
      "metadata": {
        "collapsed": true,
        "id": "8_2u27i3SwmY"
      },
      "source": [
        "**(0.75 point)** For each $K$ between 2 and 20 inclusive, partition of the array $X$ into $K$ clusters using both methods. Calculate the silhouette score and visualize it for both methods on the same plot ($K$ on the $x$ axis and silhouette score on the $y$ axis). Sign the axes and make a legend."
      ]
    },
    {
      "cell_type": "code",
      "execution_count": 19,
      "metadata": {
        "colab": {
          "base_uri": "https://localhost:8080/",
          "height": 443
        },
        "id": "vv5Y9o8xSwmZ",
        "outputId": "a3e4fb1e-58dc-440d-8b16-61344263d5d0"
      },
      "outputs": [
        {
          "output_type": "display_data",
          "data": {
            "text/plain": [
              "<Figure size 1440x504 with 1 Axes>"
            ],
            "image/png": "[encoded data removed]"
          },
          "metadata": {
            "needs_background": "light"
          }
        }
      ],
      "source": [
        "number_clusters = range(2, 21)\n",
        "silhouette_hierarchical = []\n",
        "silhouette_kmeans = []\n",
        "for i in number_clusters:\n",
        "    silhouette_hierarchical.append(silhouette_score(X, AgglomerativeClustering(n_clusters=i).fit_predict(X)))\n",
        "    silhouette_kmeans.append(silhouette_score(X, KMeans(n_clusters=i).fit_predict(X))) #n_init!!!!!!!!\n",
        "plt.figure(figsize=(20,7))\n",
        "plt.plot(number_clusters, silhouette_hierarchical, label='AgglomerativeClustering')\n",
        "plt.plot(number_clusters, silhouette_kmeans, label='KMeans')\n",
        "plt.xticks(np.arange(2, 21))\n",
        "plt.grid()\n",
        "plt.xlabel('n_clusters')\n",
        "plt.ylabel('silhouette score')\n",
        "plt.legend()\n",
        "plt.show()"
      ]
    },
    {
      "cell_type": "code",
      "execution_count": 20,
      "metadata": {
        "colab": {
          "base_uri": "https://localhost:8080/"
        },
        "id": "EWyaKaslSwmZ",
        "outputId": "4c1008b0-8985-4f95-919d-6f1ba4a3adce"
      },
      "outputs": [
        {
          "output_type": "stream",
          "name": "stdout",
          "text": [
            "Максимальный силуэт для AgglomerativeClustering: 0.18062. Достигается при количестве кластеров:9\n",
            "Максимальный силуэт для KMeans: 0.18897. Достигается при количестве кластеров:9\n"
          ]
        }
      ],
      "source": [
        "print(f'Максимальный силуэт для AgglomerativeClustering: {max(silhouette_hierarchical):.5f}. Достигается при количестве кластеров:{number_clusters[np.argmax(silhouette_hierarchical)]}')\n",
        "print(f'Максимальный силуэт для KMeans: {max(silhouette_kmeans):.5f}. Достигается при количестве кластеров:{number_clusters[np.argmax(silhouette_kmeans)]}')"
      ]
    },
    {
      "cell_type": "markdown",
      "metadata": {
        "id": "RP2bKLwGSwma"
      },
      "source": [
        "When we know the true clustering labels, the clustering result can be compared to them using measures such as `homogeneity`, `completeness` and their harmonic mean - $V$-score. The definitions of these quantities are rather bulky and are based on the [entropy of the probability distribution](https://ru.wikipedia.org/wiki/Информационная_энтропия). Details are given in [this article](http://aclweb.org/anthology/D/D07/D07-1043.pdf). In practice, it's enough to know that `homogeneity`, `completeness` and $V$-score are in the range from 0 and 1, and the more, the better.\n",
        "\n",
        "Since we know what digit each image is (`y` array), we can compare the clustering results to it using the measures listed above."
      ]
    },
    {
      "cell_type": "markdown",
      "metadata": {
        "id": "Eequj2yKSwmb"
      },
      "source": [
        "**(0.5 points)** Repeat the previous task using $V$-measure instead of silhouette."
      ]
    },
    {
      "cell_type": "code",
      "execution_count": 21,
      "metadata": {
        "colab": {
          "base_uri": "https://localhost:8080/",
          "height": 443
        },
        "id": "yAK4cw-CSwmb",
        "outputId": "b2d61034-aa1f-47ab-a98c-b8464761d208"
      },
      "outputs": [
        {
          "output_type": "display_data",
          "data": {
            "text/plain": [
              "<Figure size 1440x504 with 1 Axes>"
            ],
            "image/png": "[encoded data removed]"
          },
          "metadata": {
            "needs_background": "light"
          }
        }
      ],
      "source": [
        "number_clusters = range(2, 21)\n",
        "v_measure_hierarchical = []\n",
        "v_measure_kmeans = []\n",
        "for i in number_clusters:\n",
        "    v_measure_hierarchical.append(v_measure_score(y, AgglomerativeClustering(n_clusters=i).fit_predict(X)))\n",
        "    v_measure_kmeans.append(v_measure_score(y, KMeans(n_clusters=i).fit_predict(X))) #n_init!!!!!!!!\n",
        "plt.figure(figsize=(20,7))\n",
        "plt.plot(number_clusters, v_measure_hierarchical, label='AgglomerativeClustering')\n",
        "plt.plot(number_clusters, v_measure_kmeans, label='KMeans')\n",
        "plt.xticks(np.arange(2, 21))\n",
        "plt.grid()\n",
        "plt.xlabel('n_clusters')\n",
        "plt.ylabel('v_measure_score')\n",
        "plt.legend()\n",
        "plt.show()"
      ]
    },
    {
      "cell_type": "code",
      "execution_count": 22,
      "metadata": {
        "colab": {
          "base_uri": "https://localhost:8080/"
        },
        "id": "D449qCf5Swmc",
        "outputId": "f70a0b0e-baa7-439f-ceec-2b17b705a48c"
      },
      "outputs": [
        {
          "output_type": "stream",
          "name": "stdout",
          "text": [
            "Максимальный v_measure_score для AgglomerativeClustering: 0.86855. Достигается при количестве кластеров:12\n",
            "Максимальный v_measure_score для KMeans: 0.78328. Достигается при количестве кластеров:13\n"
          ]
        }
      ],
      "source": [
        "print(f'Максимальный v_measure_score для AgglomerativeClustering: {max(v_measure_hierarchical):.5f}. Достигается при количестве кластеров:{number_clusters[np.argmax(v_measure_hierarchical)]}')\n",
        "print(f'Максимальный v_measure_score для KMeans: {max(v_measure_kmeans):.5f}. Достигается при количестве кластеров:{number_clusters[np.argmax(v_measure_kmeans)]}')"
      ]
    },
    {
      "cell_type": "markdown",
      "metadata": {
        "id": "vH9dh0TXSwmc"
      },
      "source": [
        "## 3. Feature space dimensionality reduction\n",
        "\n",
        "In some cases, especially when there are a large number of features, when not all of them are informative, and some of them are correlated, it can be useful to reduce the dimension of the feature space. This mean that instead of $d$ original features, we will go to $d'\\ll d$ new ones. And if earlier our data were presented in the form of an $n×d$ matrix, then it will presented as a $n×d'$.\n",
        "\n",
        "There are two popular dimensionality reduction approaches:\n",
        "- select new features from existing features;\n",
        "- extract the new features by transforming old ones, for example, by making $d'$ different linear combinations of columns of an $n×d$ matrix.\n",
        "\n",
        "One widely used dimensionality reduction technique is the Singular Value Decomposition (SVD). This method allows you to construct any number $d'\\leq d$ of new features in such a way that they are the most informative (in some sense).\n",
        "\n",
        "The `scikit-learn` module has several implementations of singular value decomposition. We will use the `TruncatedSVD` class from the `decomposition` submodule.\n",
        "\n",
        "**Note:** The singular value decomposition of the matrix $M$ is usually written as $M=U \\Sigma V^{*}$. `TruncatedSVD`, in turn, returns only the $d'$ first columns of the matrix $U$."
      ]
    },
    {
      "cell_type": "markdown",
      "metadata": {
        "id": "o76rhMseSwmc"
      },
      "source": [
        "**(0.75 point)** Perform a singular value decomposition of the $X$ matrix, leaving 2, 5, 10, 20 features. In each case, perform hierarchical clustering and $K$-Means clustering (take the number of clusters equal to 10). Calculate the silhouette and $V$-score and compare them to corresponding values obtained from the original data.\n",
        "\n",
        "**Note**: It is not valid to compare the silhouette calculated with different metrics. Even if we use the same metric function when calculating the distance between points in the data, after applying dimensionality reduction or other data transformations, we will (not always) get different silhouette scores. Therefore, after training the clustering algorithm, to compare the result of clustering, you need to calculate the silhouette on the original data."
      ]
    },
    {
      "cell_type": "code",
      "execution_count": 23,
      "metadata": {
        "id": "o8w9mLzVSwmd"
      },
      "outputs": [],
      "source": [
        "from sklearn.decomposition import TruncatedSVD"
      ]
    },
    {
      "cell_type": "code",
      "execution_count": 24,
      "metadata": {
        "id": "nDj1E1OmSwmd"
      },
      "outputs": [],
      "source": [
        "def plot_fitting_graph_new(x, param1, param2, ylabel):\n",
        "    plt.figure(figsize=(15,5))\n",
        "    plt.plot(x, param1, label='AgglomerativeClustering')\n",
        "    plt.plot(x, param2, label='KMeans')\n",
        "    plt.xticks(range(2,21))\n",
        "    plt.grid()\n",
        "    plt.xlabel('n_components')\n",
        "    plt.ylabel(ylabel)\n",
        "    plt.legend()\n",
        "    plt.show()\n"
      ]
    },
    {
      "cell_type": "code",
      "execution_count": 25,
      "metadata": {
        "id": "Ql9ivBXgSwmd"
      },
      "outputs": [],
      "source": [
        "silhouette_hierarchical, silhouette_kmeans = [], []\n",
        "v_measure_hierarchical, v_measure_kmeans = [], []\n",
        "n_component = [2, 5, 10, 20]\n",
        "\n",
        "for i in n_component:\n",
        "    SVD = TruncatedSVD(n_components=i)\n",
        "    X_new=SVD.fit_transform(X)\n",
        "    model_hierarchical = AgglomerativeClustering(n_clusters=10)\n",
        "    silhouette_hierarchical.append(silhouette_score(X_new, model_hierarchical.fit_predict(X_new)))\n",
        "    v_measure_hierarchical.append(v_measure_score(y, model_hierarchical.fit_predict(X_new)))\n",
        "    model_kmeans = KMeans(n_clusters=10, n_init=50) \n",
        "    silhouette_kmeans.append(silhouette_score(X_new, model_kmeans.fit_predict(X_new)))\n",
        "    v_measure_kmeans.append(v_measure_score(y, model_kmeans.fit_predict(X_new)))"
      ]
    },
    {
      "cell_type": "code",
      "execution_count": 26,
      "metadata": {
        "colab": {
          "base_uri": "https://localhost:8080/",
          "height": 334
        },
        "id": "B2pb8sqvSwme",
        "outputId": "77b69aa3-6ea4-45fc-97a2-ff2d7845eadb"
      },
      "outputs": [
        {
          "output_type": "display_data",
          "data": {
            "text/plain": [
              "<Figure size 1080x360 with 1 Axes>"
            ],
            "image/png": "[encoded data removed]"
          },
          "metadata": {
            "needs_background": "light"
          }
        }
      ],
      "source": [
        "plot_fitting_graph_new(n_component,silhouette_hierarchical, silhouette_kmeans, 'silhouettes')"
      ]
    },
    {
      "cell_type": "code",
      "execution_count": 27,
      "metadata": {
        "colab": {
          "base_uri": "https://localhost:8080/"
        },
        "id": "Rkw4QBPmSwme",
        "outputId": "2e685d00-9233-49ff-ec72-add8de7dc203"
      },
      "outputs": [
        {
          "output_type": "stream",
          "name": "stdout",
          "text": [
            "Максимальное значение силуэта при алгоритме AgglomerativeClustering 0.2808 при размере выходных данных: 2\n",
            "Максимальное значение силуэта при алгоритме KMeans 0.3491 при размере выходных данных: 2\n"
          ]
        }
      ],
      "source": [
        "print(f'Максимальное значение силуэта при алгоритме AgglomerativeClustering {max(silhouette_hierarchical):.4f} при размере выходных данных: {n_component[np.argmax(silhouette_hierarchical)]}')\n",
        "print(f'Максимальное значение силуэта при алгоритме KMeans {max(silhouette_kmeans):.4f} при размере выходных данных: {n_component[np.argmax(silhouette_kmeans)]}')"
      ]
    },
    {
      "cell_type": "markdown",
      "metadata": {
        "id": "hKN7pVCGSwme"
      },
      "source": [
        "Мы видим, что при уменьшении количества признаков нашего датасета значение силуэта возрастает как при алгоритме AgglomerativeClustering так и при KMeans.  Максимальное значение силуэта достигается алгоритмом KMeans (0.3491) при размере выходных данных равном 2."
      ]
    },
    {
      "cell_type": "code",
      "execution_count": 28,
      "metadata": {
        "colab": {
          "base_uri": "https://localhost:8080/",
          "height": 334
        },
        "id": "bLsRConWSwme",
        "outputId": "cafa1da5-ea77-43c3-e899-179dae78043b"
      },
      "outputs": [
        {
          "output_type": "display_data",
          "data": {
            "text/plain": [
              "<Figure size 1080x360 with 1 Axes>"
            ],
            "image/png": "[encoded data removed]"
          },
          "metadata": {
            "needs_background": "light"
          }
        }
      ],
      "source": [
        "plot_fitting_graph_new(n_component,v_measure_hierarchical, v_measure_kmeans, 'v_measures')"
      ]
    },
    {
      "cell_type": "code",
      "execution_count": 29,
      "metadata": {
        "colab": {
          "base_uri": "https://localhost:8080/"
        },
        "id": "DHUzByDjSwmf",
        "outputId": "3239a42e-b501-4236-a8f9-f0ce4992ca5a"
      },
      "outputs": [
        {
          "output_type": "stream",
          "name": "stdout",
          "text": [
            "Максимальное значение V-меры при алгоритме AgglomerativeClustering 0.8260 при размере выходных данных: 10\n",
            "Максимальное значение V-меры при алгоритме KMeans 0.7423 при размере выходных данных: 20\n"
          ]
        }
      ],
      "source": [
        "print(f'Максимальное значение V-меры при алгоритме AgglomerativeClustering {max(v_measure_hierarchical):.4f} при размере выходных данных: {n_component[np.argmax(v_measure_hierarchical)]}')\n",
        "print(f'Максимальное значение V-меры при алгоритме KMeans {max(v_measure_kmeans):.4f} при размере выходных данных: {n_component[np.argmax(v_measure_kmeans)]}')"
      ]
    },
    {
      "cell_type": "markdown",
      "metadata": {
        "id": "Lag8inufSwmf"
      },
      "source": [
        "С V-мерой мы наблюдаем другую картину при увеличении количества выходных данных значение V-меры увеличивается до определенного момента, после чего существенно уже не изменяется как при алгоритме AgglomerativeClustering так и при KMeans. Максимальное значение v-меры при алгоритме AgglomerativeClustering (0.8260) при размере выходных данных равном 10."
      ]
    },
    {
      "cell_type": "markdown",
      "metadata": {
        "id": "Utp1d93jSwmf"
      },
      "source": [
        "Another popular dimensionality reduction approach that is useful for working with images is t-distributed stochastic neighbor embeddings, abbreviated `tSNE`. Unlike singular value decomposition, this it is non-linear transformation. It's main idea is to map points from a space of dimension `d` to another space of dimension 2 or 3 in such a way that the distances between points are mostly preserved. Mathematical details can be found, for example, [here](https://en.wikipedia.org/wiki/T-distributed_stochastic_neighbor_embedding).\n",
        "\n",
        "The implementation of `tSNE` in the `scikit-learn` library is the `TSNE` class in the `manifold` submodule.\n",
        "\n",
        "**Note:** In recent years [UMAP](https://github.com/lmcinnes/umap) is often used istead of `tSNE`. It is a faster algorithm with similar properties. We don't ask you to use `UMAP` because it requires you to install another dependency, the `umap-learn` library. Those who wish can perform the following task using `UMAP`."
      ]
    },
    {
      "cell_type": "markdown",
      "metadata": {
        "id": "0MImjiHjSwmf"
      },
      "source": [
        "**(0.5 points)** Perform a tSNE-transform of the `X` matrix, leaving 2 features. Visualize the obtained data in the form of a scatter plot form: the first feature on the horizontal axis, and the second one the vertical axis. Color the points according to the digits they belong to.\n",
        "\n",
        "- The `c` parameter in the plt.scatter function is responsible for the color of the points. Pass the true labels to it."
      ]
    },
    {
      "cell_type": "code",
      "execution_count": 30,
      "metadata": {
        "id": "DhBEO-QtSwmf"
      },
      "outputs": [],
      "source": [
        "from sklearn.manifold import TSNE"
      ]
    },
    {
      "cell_type": "code",
      "execution_count": 31,
      "metadata": {
        "colab": {
          "base_uri": "https://localhost:8080/"
        },
        "id": "e-yPczCYSwmg",
        "outputId": "c2d0ee50-b0f0-4ac2-bdc3-9e220903d654"
      },
      "outputs": [
        {
          "output_type": "stream",
          "name": "stderr",
          "text": [
            "/usr/local/lib/python3.7/dist-packages/sklearn/manifold/_t_sne.py:783: FutureWarning: The default initialization in TSNE will change from 'random' to 'pca' in 1.2.\n",
            "  FutureWarning,\n",
            "/usr/local/lib/python3.7/dist-packages/sklearn/manifold/_t_sne.py:793: FutureWarning: The default learning rate in TSNE will change from 200.0 to 'auto' in 1.2.\n",
            "  FutureWarning,\n"
          ]
        },
        {
          "output_type": "execute_result",
          "data": {
            "text/plain": [
              "(1797, 2)"
            ]
          },
          "metadata": {},
          "execution_count": 31
        }
      ],
      "source": [
        "X_tsne = TSNE(n_components=2).fit_transform(X)\n",
        "X_tsne.shape"
      ]
    },
    {
      "cell_type": "code",
      "execution_count": 32,
      "metadata": {
        "colab": {
          "base_uri": "https://localhost:8080/",
          "height": 282
        },
        "id": "3aq7dO4mSwmg",
        "outputId": "3de6ecdc-165c-4311-9c1b-f7a69212ec48"
      },
      "outputs": [
        {
          "output_type": "display_data",
          "data": {
            "text/plain": [
              "<Figure size 1080x360 with 0 Axes>"
            ]
          },
          "metadata": {}
        },
        {
          "output_type": "display_data",
          "data": {
            "text/plain": [
              "<Figure size 432x288 with 1 Axes>"
            ],
            "image/png": "[encoded data removed]"
          },
          "metadata": {
            "needs_background": "light"
          }
        }
      ],
      "source": [
        "plt.figure(figsize=(15,5))\n",
        "fig, ax = plt.subplots()\n",
        "scatter = ax.scatter(X_tsne[:,0], X_tsne[:,1], c=y)\n",
        "legend = ax.legend(*scatter.legend_elements(), title=\"numbers\")\n",
        "plt.show()"
      ]
    },
    {
      "cell_type": "markdown",
      "metadata": {
        "id": "osKEHBtfSwmg"
      },
      "source": [
        "**(0.5 points)** From the data transformed using the tSNE, perform hierarchical clustering and $K$-means clustering (take the number of clusters equal to 10). Calculate the silhouette and the $V$-score and compare them to corresponding values obtained from the original data."
      ]
    },
    {
      "cell_type": "markdown",
      "metadata": {
        "id": "Q5XuHN3hSwmh"
      },
      "source": [
        "Рассмотрим влияние метода tSNE на значения силуэта и v-меры при алгоритме AgglomerativeClustering."
      ]
    },
    {
      "cell_type": "code",
      "execution_count": 33,
      "metadata": {
        "colab": {
          "base_uri": "https://localhost:8080/"
        },
        "id": "2nHveuo0Swmh",
        "outputId": "68a41c00-7711-43cb-d201-8a3f12d4fbcf"
      },
      "outputs": [
        {
          "output_type": "stream",
          "name": "stdout",
          "text": [
            "Значение силуэта при исходных данных: 0.17849659940596496, после применения метода tsne: 0.6463846564292908\n",
            "Значение v-меры при исходных данных: 0.8681701126909083, после применения метода tsne: 0.9116731043933768\n"
          ]
        }
      ],
      "source": [
        "model_hierarchical = AgglomerativeClustering(n_clusters=10)\n",
        "silhouette_before_tsne=silhouette_score(X, model_hierarchical.fit_predict(X))\n",
        "silhouette_after_tsne=silhouette_score(X_tsne, model_hierarchical.fit_predict(X_tsne))\n",
        "print(f'Значение силуэта при исходных данных: {silhouette_before_tsne}, после применения метода tsne: {silhouette_after_tsne}')\n",
        "v_score_before_tsne = v_measure_score(y, model_hierarchical.fit_predict(X))\n",
        "v_score_after_tsne = v_measure_score(y, model_hierarchical.fit_predict(X_tsne))\n",
        "print(f'Значение v-меры при исходных данных: {v_score_before_tsne}, после применения метода tsne: {v_score_after_tsne}')\n",
        "#model_kmeans = KMeans(n_clusters=10, n_init=50) \n",
        "#kmeans_labels = model_kmeans.fit_predict(X_tsne)"
      ]
    },
    {
      "cell_type": "markdown",
      "metadata": {
        "id": "SgHZZDEoSwmh"
      },
      "source": [
        "Теперь рассмотрим тоже самое только для алгоритма KMeans."
      ]
    },
    {
      "cell_type": "code",
      "execution_count": 34,
      "metadata": {
        "colab": {
          "base_uri": "https://localhost:8080/"
        },
        "id": "U2KzI6XVSwmh",
        "outputId": "820fda85-c356-4db4-c665-507433ed75a3"
      },
      "outputs": [
        {
          "output_type": "stream",
          "name": "stdout",
          "text": [
            "Значение силуэта при исходных данных: 0.1826513940795278, после применения метода tsne: 0.6500111222267151\n",
            "Значение v-меры при исходных данных: 0.7449401577335173, после применения метода tsne: 0.9120700225913282\n"
          ]
        }
      ],
      "source": [
        "model_kmeans = KMeans(n_clusters=10, n_init=50) \n",
        "silhouette_before_tsne=silhouette_score(X, model_kmeans.fit_predict(X))\n",
        "silhouette_after_tsne=silhouette_score(X_tsne, model_kmeans.fit_predict(X_tsne))\n",
        "print(f'Значение силуэта при исходных данных: {silhouette_before_tsne}, после применения метода tsne: {silhouette_after_tsne}')\n",
        "v_score_before_tsne = v_measure_score(y, model_kmeans.fit_predict(X))\n",
        "v_score_after_tsne = v_measure_score(y, model_kmeans.fit_predict(X_tsne))\n",
        "print(f'Значение v-меры при исходных данных: {v_score_before_tsne}, после применения метода tsne: {v_score_after_tsne}')"
      ]
    },
    {
      "cell_type": "markdown",
      "metadata": {
        "id": "G7ASUJo5Swmi"
      },
      "source": [
        "Значения силуэта и v-меры после применения tSNE значительнее выше как при алгоритме AgglomerativeClustering, так и при KMeans. На основании этого мы можем сказать что наличие в датасете неинформационных признаков приводит к ухудшению результата разбиения на кластеры."
      ]
    },
    {
      "cell_type": "markdown",
      "metadata": {
        "id": "80fddxGmSwmi"
      },
      "source": [
        "**(0.25 points)** Choose the best partition (in terms of silhouette or $V$-score) and visualize the centers of clusters with images. Did you managed to make each digit correspond to one center of the cluster?"
      ]
    },
    {
      "cell_type": "markdown",
      "metadata": {
        "id": "RNnP8lIcSwmi"
      },
      "source": [
        "На основании проделанных расчетов в предыдущих пунктах для 2 алгоритмов были получены почти одинаковые значения силуэта и v-меры. Выберем алгоритм KMeans с методом уменьшения размерности tSNE."
      ]
    },
    {
      "cell_type": "code",
      "execution_count": 35,
      "metadata": {
        "id": "StwDjxCQSwmi"
      },
      "outputs": [],
      "source": [
        "def plot_digits(labels):\n",
        "    plt.figure(figsize=(10, 5))\n",
        "    image = X.reshape(-1, 8, 8)\n",
        "    for i in range(10):\n",
        "        plt.subplot(2, 5, i+1, xticks=[], yticks=[])\n",
        "        plt.imshow(np.mean(image[labels==i], axis = 0), cmap=plt.cm.gray_r)"
      ]
    },
    {
      "cell_type": "code",
      "execution_count": 36,
      "metadata": {
        "colab": {
          "base_uri": "https://localhost:8080/",
          "height": 279
        },
        "id": "Kt6GcmgBSwmi",
        "outputId": "3aff6c14-2765-4fd2-caf5-2a25e05d3a0d"
      },
      "outputs": [
        {
          "output_type": "display_data",
          "data": {
            "text/plain": [
              "<Figure size 720x360 with 10 Axes>"
            ],
            "image/png": "[encoded data removed]"
          },
          "metadata": {}
        }
      ],
      "source": [
        "model_kmeans = KMeans(n_clusters=10, n_init=100) \n",
        "kmeans_labels = model_kmeans.fit_predict(X_tsne)\n",
        "plot_digits(kmeans_labels)"
      ]
    },
    {
      "cell_type": "markdown",
      "metadata": {
        "id": "ZTvvCBgGSwmj"
      },
      "source": [
        "Мы видим, использование алгоритма KMeans с методом уменьшения размерности tSNE привело к улучшению разбиения на кластеры, по сравнению с предыдущими расчетами. "
      ]
    },
    {
      "cell_type": "markdown",
      "metadata": {
        "id": "Hklp4n37Swmk"
      },
      "source": [
        "## 4. Results and bonus part"
      ]
    },
    {
      "cell_type": "markdown",
      "metadata": {
        "id": "Y-AEpADnSwmk"
      },
      "source": [
        "Write in free form what conclusions you made after completing this assignment. Answer the following questions:\n",
        "\n",
        "**(0.5 points)** Which algorithm gives more meaningful results - hierarchical clustering or $K$- means clustering. Does it depend on the algorithm settings or on the quality evaluation method?"
      ]
    },
    {
      "cell_type": "markdown",
      "metadata": {
        "id": "hcX7927MSwmk"
      },
      "source": [
        "На основании проделанной работы, можно сказать, что алгоритмы KMeans и AgglomerativeClustering показали одинаково хороший результат. Так же можно отметить, что значение v- меры незначительно выше при алгоритме AgglomerativeClustering, а значение силуэта выше при алгоритме KMeans. Хотя при применении уменьшения размерности выходных данных значение v-меры стало выше при алгоритме KMeans."
      ]
    },
    {
      "cell_type": "markdown",
      "metadata": {
        "id": "BSGjg-8fSwmk"
      },
      "source": [
        "**(0.5 points)** Imagine the situation where after hierarchical clustering, you need to cluster new data in the same way without retraining the model. Suggest a method how you will do it and how you will measure the quality of clustering of new data."
      ]
    },
    {
      "cell_type": "markdown",
      "source": [
        "Можно применить метод классификации KNN. Задать количество соседей и взять наиболее частый кластер.  Качество можно оценить с помощью v-меры или силуэта на основании правильных меток.\n"
      ],
      "metadata": {
        "id": "Hknh1UuMg4qB"
      }
    },
    {
      "cell_type": "markdown",
      "metadata": {
        "collapsed": true,
        "id": "IkE35Le6Swml"
      },
      "source": [
        "**(0.5 points)** Does dimensionality reduction improve clustering results?"
      ]
    },
    {
      "cell_type": "markdown",
      "metadata": {
        "id": "PsVopQjfSwml"
      },
      "source": [
        "При уменьшении размерности результат кластеризации значительно улучшается (На основании расчетов в предыдущих пунктах). Так как данный метод удаляет неинформационные признаки в датасете которые приводят к ухудшению результата разбиения на кластеры."
      ]
    },
    {
      "cell_type": "markdown",
      "source": [
        ""
      ],
      "metadata": {
        "id": "-cm8l44UT5mS"
      }
    },
    {
      "cell_type": "markdown",
      "metadata": {
        "id": "lWfLKnm1Swml"
      },
      "source": [
        "**(0.5 points)** How to evaluate the quality of dimensional reduction? Suggest at least 2 options."
      ]
    },
    {
      "cell_type": "markdown",
      "source": [
        "Оценить качество уменьшения размерности можно несколькими вариантами:\n",
        "* Рассчитать метрики, таки как v-мера и силуэт для исходных данных и после уменьшения размерности. Мы увидим, как измениться качество разбиения на кластеры нашего датасета.\n",
        "* Визуализировав центороиды кластеров исходных данных и после уменьшения размерности, мы сможем визуально оценить, как изменилось наше качество.\n",
        "* xpoПосчитать точность отнесение данных к определенному кластеру после уменьшения размерности относительно первоночальных данных.\n"
      ],
      "metadata": {
        "id": "YO8xWh4gT05f"
      }
    },
    {
      "cell_type": "markdown",
      "metadata": {
        "id": "H2xbWxqeSwmm"
      },
      "source": [
        "**(Bonus 2 points)** Load the [MNIST Handwritten Digits](http://yann.lecun.com/exdb/mnist) dataset. You can also do it with `scikit-learn` as explained [here](https://stackoverflow.com/a/60450028). Explore the data and try to cluster it using different approaches. Compare results of these approaches using the silhouette and the $V$-score."
      ]
    },
    {
      "cell_type": "code",
      "execution_count": 37,
      "metadata": {
        "colab": {
          "base_uri": "https://localhost:8080/",
          "height": 35
        },
        "id": "_bRrPRmMSwmm",
        "outputId": "1defb1d4-78fd-4d5d-bb73-9aa2865bd59f",
        "scrolled": true
      },
      "outputs": [
        {
          "output_type": "execute_result",
          "data": {
            "text/plain": [
              "'1.0.2'"
            ],
            "application/vnd.google.colaboratory.intrinsic+json": {
              "type": "string"
            }
          },
          "metadata": {},
          "execution_count": 37
        }
      ],
      "source": [
        "import sklearn\n",
        "sklearn.__version__"
      ]
    },
    {
      "cell_type": "code",
      "execution_count": 38,
      "metadata": {
        "id": "mzWveYd5Swmm"
      },
      "outputs": [],
      "source": [
        "from sklearn.datasets import fetch_openml\n",
        "X, y = fetch_openml('mnist_784', version=1, return_X_y=True)"
      ]
    },
    {
      "cell_type": "code",
      "execution_count": 39,
      "metadata": {
        "colab": {
          "base_uri": "https://localhost:8080/"
        },
        "id": "ovoBTZzmSwmm",
        "outputId": "5539db20-dd72-4ba3-e97d-b238034a9294"
      },
      "outputs": [
        {
          "output_type": "execute_result",
          "data": {
            "text/plain": [
              "((70000, 784), (70000,))"
            ]
          },
          "metadata": {},
          "execution_count": 39
        }
      ],
      "source": [
        "X.shape, y.shape"
      ]
    },
    {
      "cell_type": "code",
      "source": [
        "X.info()"
      ],
      "metadata": {
        "colab": {
          "base_uri": "https://localhost:8080/"
        },
        "id": "ZyHH2-_mQf7e",
        "outputId": "8c093d73-5492-4939-b7cc-ce62c7e94276"
      },
      "execution_count": 40,
      "outputs": [
        {
          "output_type": "stream",
          "name": "stdout",
          "text": [
            "<class 'pandas.core.frame.DataFrame'>\n",
            "RangeIndex: 70000 entries, 0 to 69999\n",
            "Columns: 784 entries, pixel1 to pixel784\n",
            "dtypes: float64(784)\n",
            "memory usage: 418.7 MB\n"
          ]
        }
      ]
    },
    {
      "cell_type": "code",
      "source": [
        "X.describe()"
      ],
      "metadata": {
        "colab": {
          "base_uri": "https://localhost:8080/",
          "height": 394
        },
        "id": "ZhXL73X3Qd9J",
        "outputId": "3db5714c-3ae1-422b-f2e9-8c6858c5cdde"
      },
      "execution_count": 41,
      "outputs": [
        {
          "output_type": "execute_result",
          "data": {
            "text/plain": [
              "        pixel1   pixel2   pixel3   pixel4   pixel5   pixel6   pixel7   pixel8  \\\n",
              "count  70000.0  70000.0  70000.0  70000.0  70000.0  70000.0  70000.0  70000.0   \n",
              "mean       0.0      0.0      0.0      0.0      0.0      0.0      0.0      0.0   \n",
              "std        0.0      0.0      0.0      0.0      0.0      0.0      0.0      0.0   \n",
              "min        0.0      0.0      0.0      0.0      0.0      0.0      0.0      0.0   \n",
              "25%        0.0      0.0      0.0      0.0      0.0      0.0      0.0      0.0   \n",
              "50%        0.0      0.0      0.0      0.0      0.0      0.0      0.0      0.0   \n",
              "75%        0.0      0.0      0.0      0.0      0.0      0.0      0.0      0.0   \n",
              "max        0.0      0.0      0.0      0.0      0.0      0.0      0.0      0.0   \n",
              "\n",
              "        pixel9  pixel10  ...      pixel775      pixel776      pixel777  \\\n",
              "count  70000.0  70000.0  ...  70000.000000  70000.000000  70000.000000   \n",
              "mean       0.0      0.0  ...      0.197414      0.099543      0.046629   \n",
              "std        0.0      0.0  ...      5.991206      4.256304      2.783732   \n",
              "min        0.0      0.0  ...      0.000000      0.000000      0.000000   \n",
              "25%        0.0      0.0  ...      0.000000      0.000000      0.000000   \n",
              "50%        0.0      0.0  ...      0.000000      0.000000      0.000000   \n",
              "75%        0.0      0.0  ...      0.000000      0.000000      0.000000   \n",
              "max        0.0      0.0  ...    254.000000    254.000000    253.000000   \n",
              "\n",
              "           pixel778      pixel779      pixel780  pixel781  pixel782  pixel783  \\\n",
              "count  70000.000000  70000.000000  70000.000000   70000.0   70000.0   70000.0   \n",
              "mean       0.016614      0.012957      0.001714       0.0       0.0       0.0   \n",
              "std        1.561822      1.553796      0.320889       0.0       0.0       0.0   \n",
              "min        0.000000      0.000000      0.000000       0.0       0.0       0.0   \n",
              "25%        0.000000      0.000000      0.000000       0.0       0.0       0.0   \n",
              "50%        0.000000      0.000000      0.000000       0.0       0.0       0.0   \n",
              "75%        0.000000      0.000000      0.000000       0.0       0.0       0.0   \n",
              "max      253.000000    254.000000     62.000000       0.0       0.0       0.0   \n",
              "\n",
              "       pixel784  \n",
              "count   70000.0  \n",
              "mean        0.0  \n",
              "std         0.0  \n",
              "min         0.0  \n",
              "25%         0.0  \n",
              "50%         0.0  \n",
              "75%         0.0  \n",
              "max         0.0  \n",
              "\n",
              "[8 rows x 784 columns]"
            ],
            "text/html": [
              "\n",
              "  <div id=\"df-c1368512-1cbb-442a-98d6-71b7391b8ae0\">\n",
              "    <div class=\"colab-df-container\">\n",
              "      <div>\n",
              "<style scoped>\n",
              "    .dataframe tbody tr th:only-of-type {\n",
              "        vertical-align: middle;\n",
              "    }\n",
              "\n",
              "    .dataframe tbody tr th {\n",
              "        vertical-align: top;\n",
              "    }\n",
              "\n",
              "    .dataframe thead th {\n",
              "        text-align: right;\n",
              "    }\n",
              "</style>\n",
              "<table border=\"1\" class=\"dataframe\">\n",
              "  <thead>\n",
              "    <tr style=\"text-align: right;\">\n",
              "      <th></th>\n",
              "      <th>pixel1</th>\n",
              "      <th>pixel2</th>\n",
              "      <th>pixel3</th>\n",
              "      <th>pixel4</th>\n",
              "      <th>pixel5</th>\n",
              "      <th>pixel6</th>\n",
              "      <th>pixel7</th>\n",
              "      <th>pixel8</th>\n",
              "      <th>pixel9</th>\n",
              "      <th>pixel10</th>\n",
              "      <th>...</th>\n",
              "      <th>pixel775</th>\n",
              "      <th>pixel776</th>\n",
              "      <th>pixel777</th>\n",
              "      <th>pixel778</th>\n",
              "      <th>pixel779</th>\n",
              "      <th>pixel780</th>\n",
              "      <th>pixel781</th>\n",
              "      <th>pixel782</th>\n",
              "      <th>pixel783</th>\n",
              "      <th>pixel784</th>\n",
              "    </tr>\n",
              "  </thead>\n",
              "  <tbody>\n",
              "    <tr>\n",
              "      <th>count</th>\n",
              "      <td>70000.0</td>\n",
              "      <td>70000.0</td>\n",
              "      <td>70000.0</td>\n",
              "      <td>70000.0</td>\n",
              "      <td>70000.0</td>\n",
              "      <td>70000.0</td>\n",
              "      <td>70000.0</td>\n",
              "      <td>70000.0</td>\n",
              "      <td>70000.0</td>\n",
              "      <td>70000.0</td>\n",
              "      <td>...</td>\n",
              "      <td>70000.000000</td>\n",
              "      <td>70000.000000</td>\n",
              "      <td>70000.000000</td>\n",
              "      <td>70000.000000</td>\n",
              "      <td>70000.000000</td>\n",
              "      <td>70000.000000</td>\n",
              "      <td>70000.0</td>\n",
              "      <td>70000.0</td>\n",
              "      <td>70000.0</td>\n",
              "      <td>70000.0</td>\n",
              "    </tr>\n",
              "    <tr>\n",
              "      <th>mean</th>\n",
              "      <td>0.0</td>\n",
              "      <td>0.0</td>\n",
              "      <td>0.0</td>\n",
              "      <td>0.0</td>\n",
              "      <td>0.0</td>\n",
              "      <td>0.0</td>\n",
              "      <td>0.0</td>\n",
              "      <td>0.0</td>\n",
              "      <td>0.0</td>\n",
              "      <td>0.0</td>\n",
              "      <td>...</td>\n",
              "      <td>0.197414</td>\n",
              "      <td>0.099543</td>\n",
              "      <td>0.046629</td>\n",
              "      <td>0.016614</td>\n",
              "      <td>0.012957</td>\n",
              "      <td>0.001714</td>\n",
              "      <td>0.0</td>\n",
              "      <td>0.0</td>\n",
              "      <td>0.0</td>\n",
              "      <td>0.0</td>\n",
              "    </tr>\n",
              "    <tr>\n",
              "      <th>std</th>\n",
              "      <td>0.0</td>\n",
              "      <td>0.0</td>\n",
              "      <td>0.0</td>\n",
              "      <td>0.0</td>\n",
              "      <td>0.0</td>\n",
              "      <td>0.0</td>\n",
              "      <td>0.0</td>\n",
              "      <td>0.0</td>\n",
              "      <td>0.0</td>\n",
              "      <td>0.0</td>\n",
              "      <td>...</td>\n",
              "      <td>5.991206</td>\n",
              "      <td>4.256304</td>\n",
              "      <td>2.783732</td>\n",
              "      <td>1.561822</td>\n",
              "      <td>1.553796</td>\n",
              "      <td>0.320889</td>\n",
              "      <td>0.0</td>\n",
              "      <td>0.0</td>\n",
              "      <td>0.0</td>\n",
              "      <td>0.0</td>\n",
              "    </tr>\n",
              "    <tr>\n",
              "      <th>min</th>\n",
              "      <td>0.0</td>\n",
              "      <td>0.0</td>\n",
              "      <td>0.0</td>\n",
              "      <td>0.0</td>\n",
              "      <td>0.0</td>\n",
              "      <td>0.0</td>\n",
              "      <td>0.0</td>\n",
              "      <td>0.0</td>\n",
              "      <td>0.0</td>\n",
              "      <td>0.0</td>\n",
              "      <td>...</td>\n",
              "      <td>0.000000</td>\n",
              "      <td>0.000000</td>\n",
              "      <td>0.000000</td>\n",
              "      <td>0.000000</td>\n",
              "      <td>0.000000</td>\n",
              "      <td>0.000000</td>\n",
              "      <td>0.0</td>\n",
              "      <td>0.0</td>\n",
              "      <td>0.0</td>\n",
              "      <td>0.0</td>\n",
              "    </tr>\n",
              "    <tr>\n",
              "      <th>25%</th>\n",
              "      <td>0.0</td>\n",
              "      <td>0.0</td>\n",
              "      <td>0.0</td>\n",
              "      <td>0.0</td>\n",
              "      <td>0.0</td>\n",
              "      <td>0.0</td>\n",
              "      <td>0.0</td>\n",
              "      <td>0.0</td>\n",
              "      <td>0.0</td>\n",
              "      <td>0.0</td>\n",
              "      <td>...</td>\n",
              "      <td>0.000000</td>\n",
              "      <td>0.000000</td>\n",
              "      <td>0.000000</td>\n",
              "      <td>0.000000</td>\n",
              "      <td>0.000000</td>\n",
              "      <td>0.000000</td>\n",
              "      <td>0.0</td>\n",
              "      <td>0.0</td>\n",
              "      <td>0.0</td>\n",
              "      <td>0.0</td>\n",
              "    </tr>\n",
              "    <tr>\n",
              "      <th>50%</th>\n",
              "      <td>0.0</td>\n",
              "      <td>0.0</td>\n",
              "      <td>0.0</td>\n",
              "      <td>0.0</td>\n",
              "      <td>0.0</td>\n",
              "      <td>0.0</td>\n",
              "      <td>0.0</td>\n",
              "      <td>0.0</td>\n",
              "      <td>0.0</td>\n",
              "      <td>0.0</td>\n",
              "      <td>...</td>\n",
              "      <td>0.000000</td>\n",
              "      <td>0.000000</td>\n",
              "      <td>0.000000</td>\n",
              "      <td>0.000000</td>\n",
              "      <td>0.000000</td>\n",
              "      <td>0.000000</td>\n",
              "      <td>0.0</td>\n",
              "      <td>0.0</td>\n",
              "      <td>0.0</td>\n",
              "      <td>0.0</td>\n",
              "    </tr>\n",
              "    <tr>\n",
              "      <th>75%</th>\n",
              "      <td>0.0</td>\n",
              "      <td>0.0</td>\n",
              "      <td>0.0</td>\n",
              "      <td>0.0</td>\n",
              "      <td>0.0</td>\n",
              "      <td>0.0</td>\n",
              "      <td>0.0</td>\n",
              "      <td>0.0</td>\n",
              "      <td>0.0</td>\n",
              "      <td>0.0</td>\n",
              "      <td>...</td>\n",
              "      <td>0.000000</td>\n",
              "      <td>0.000000</td>\n",
              "      <td>0.000000</td>\n",
              "      <td>0.000000</td>\n",
              "      <td>0.000000</td>\n",
              "      <td>0.000000</td>\n",
              "      <td>0.0</td>\n",
              "      <td>0.0</td>\n",
              "      <td>0.0</td>\n",
              "      <td>0.0</td>\n",
              "    </tr>\n",
              "    <tr>\n",
              "      <th>max</th>\n",
              "      <td>0.0</td>\n",
              "      <td>0.0</td>\n",
              "      <td>0.0</td>\n",
              "      <td>0.0</td>\n",
              "      <td>0.0</td>\n",
              "      <td>0.0</td>\n",
              "      <td>0.0</td>\n",
              "      <td>0.0</td>\n",
              "      <td>0.0</td>\n",
              "      <td>0.0</td>\n",
              "      <td>...</td>\n",
              "      <td>254.000000</td>\n",
              "      <td>254.000000</td>\n",
              "      <td>253.000000</td>\n",
              "      <td>253.000000</td>\n",
              "      <td>254.000000</td>\n",
              "      <td>62.000000</td>\n",
              "      <td>0.0</td>\n",
              "      <td>0.0</td>\n",
              "      <td>0.0</td>\n",
              "      <td>0.0</td>\n",
              "    </tr>\n",
              "  </tbody>\n",
              "</table>\n",
              "<p>8 rows × 784 columns</p>\n",
              "</div>\n",
              "      <button class=\"colab-df-convert\" onclick=\"convertToInteractive('df-c1368512-1cbb-442a-98d6-71b7391b8ae0')\"\n",
              "              title=\"Convert this dataframe to an interactive table.\"\n",
              "              style=\"display:none;\">\n",
              "        \n",
              "  <svg xmlns=\"http://www.w3.org/2000/svg\" height=\"24px\"viewBox=\"0 0 24 24\"\n",
              "       width=\"24px\">\n",
              "    <path d=\"M0 0h24v24H0V0z\" fill=\"none\"/>\n",
              "    <path d=\"M18.56 5.44l.94 2.06.94-2.06 2.06-.94-2.06-.94-.94-2.06-.94 2.06-2.06.94zm-11 1L8.5 8.5l.94-2.06 2.06-.94-2.06-.94L8.5 2.5l-.94 2.06-2.06.94zm10 10l.94 2.06.94-2.06 2.06-.94-2.06-.94-.94-2.06-.94 2.06-2.06.94z\"/><path d=\"M17.41 7.96l-1.37-1.37c-.4-.4-.92-.59-1.43-.59-.52 0-1.04.2-1.43.59L10.3 9.45l-7.72 7.72c-.78.78-.78 2.05 0 2.83L4 21.41c.39.39.9.59 1.41.59.51 0 1.02-.2 1.41-.59l7.78-7.78 2.81-2.81c.8-.78.8-2.07 0-2.86zM5.41 20L4 18.59l7.72-7.72 1.47 1.35L5.41 20z\"/>\n",
              "  </svg>\n",
              "      </button>\n",
              "      \n",
              "  <style>\n",
              "    .colab-df-container {\n",
              "      display:flex;\n",
              "      flex-wrap:wrap;\n",
              "      gap: 12px;\n",
              "    }\n",
              "\n",
              "    .colab-df-convert {\n",
              "      background-color: #E8F0FE;\n",
              "      border: none;\n",
              "      border-radius: 50%;\n",
              "      cursor: pointer;\n",
              "      display: none;\n",
              "      fill: #1967D2;\n",
              "      height: 32px;\n",
              "      padding: 0 0 0 0;\n",
              "      width: 32px;\n",
              "    }\n",
              "\n",
              "    .colab-df-convert:hover {\n",
              "      background-color: #E2EBFA;\n",
              "      box-shadow: 0px 1px 2px rgba(60, 64, 67, 0.3), 0px 1px 3px 1px rgba(60, 64, 67, 0.15);\n",
              "      fill: #174EA6;\n",
              "    }\n",
              "\n",
              "    [theme=dark] .colab-df-convert {\n",
              "      background-color: #3B4455;\n",
              "      fill: #D2E3FC;\n",
              "    }\n",
              "\n",
              "    [theme=dark] .colab-df-convert:hover {\n",
              "      background-color: #434B5C;\n",
              "      box-shadow: 0px 1px 3px 1px rgba(0, 0, 0, 0.15);\n",
              "      filter: drop-shadow(0px 1px 2px rgba(0, 0, 0, 0.3));\n",
              "      fill: #FFFFFF;\n",
              "    }\n",
              "  </style>\n",
              "\n",
              "      <script>\n",
              "        const buttonEl =\n",
              "          document.querySelector('#df-c1368512-1cbb-442a-98d6-71b7391b8ae0 button.colab-df-convert');\n",
              "        buttonEl.style.display =\n",
              "          google.colab.kernel.accessAllowed ? 'block' : 'none';\n",
              "\n",
              "        async function convertToInteractive(key) {\n",
              "          const element = document.querySelector('#df-c1368512-1cbb-442a-98d6-71b7391b8ae0');\n",
              "          const dataTable =\n",
              "            await google.colab.kernel.invokeFunction('convertToInteractive',\n",
              "                                                     [key], {});\n",
              "          if (!dataTable) return;\n",
              "\n",
              "          const docLinkHtml = 'Like what you see? Visit the ' +\n",
              "            '<a target=\"_blank\" href=https://colab.research.google.com/notebooks/data_table.ipynb>data table notebook</a>'\n",
              "            + ' to learn more about interactive tables.';\n",
              "          element.innerHTML = '';\n",
              "          dataTable['output_type'] = 'display_data';\n",
              "          await google.colab.output.renderOutput(dataTable, element);\n",
              "          const docLink = document.createElement('div');\n",
              "          docLink.innerHTML = docLinkHtml;\n",
              "          element.appendChild(docLink);\n",
              "        }\n",
              "      </script>\n",
              "    </div>\n",
              "  </div>\n",
              "  "
            ]
          },
          "metadata": {},
          "execution_count": 41
        }
      ]
    },
    {
      "cell_type": "markdown",
      "metadata": {
        "id": "m1clBLmESwmn"
      },
      "source": [
        "Визуализируем первых 10 изображений."
      ]
    },
    {
      "cell_type": "code",
      "execution_count": 42,
      "metadata": {
        "colab": {
          "base_uri": "https://localhost:8080/",
          "height": 279
        },
        "id": "KA_EMg_XSwmn",
        "outputId": "1802b8d6-f78b-4465-bcea-21e1a6e48cbd"
      },
      "outputs": [
        {
          "output_type": "display_data",
          "data": {
            "text/plain": [
              "<Figure size 720x360 with 10 Axes>"
            ],
            "image/png": "[encoded data removed]"
          },
          "metadata": {}
        }
      ],
      "source": [
        "plt.figure(figsize=(10, 5))\n",
        "image = X.values.reshape(-1, 28, 28)\n",
        "for i in range(10):\n",
        "    plt.subplot(2, 5, i+1, xticks=[], yticks=[])\n",
        "    plt.imshow(image[i], cmap=plt.cm.gray_r)"
      ]
    },
    {
      "cell_type": "markdown",
      "metadata": {
        "id": "hN8cM7EJSwmn"
      },
      "source": [
        "В данной работе мы рассматривали 2 алгоритма разбиение данных на кластеры, такие как KMeans и AgglomerativeClustering. Алгоритм KMeans показал себя немного лучше при разбиении цифр на кластеры, поэтому для начала проанализируем как он справиться с новым датасетом."
      ]
    },
    {
      "cell_type": "code",
      "execution_count": 43,
      "metadata": {
        "colab": {
          "base_uri": "https://localhost:8080/"
        },
        "id": "QWGepo_HSwmn",
        "outputId": "7313b886-8f6c-4406-823d-34d884edea6f"
      },
      "outputs": [
        {
          "output_type": "stream",
          "name": "stdout",
          "text": [
            "Значение силуэта: 0.05873197675656581\n",
            "Значение v-меры: 0.49972347153802865\n"
          ]
        }
      ],
      "source": [
        "model_kmeans = KMeans(n_clusters=10, n_init=50) \n",
        "kmeans = model_kmeans.fit_predict(X)\n",
        "silhouette_kmeans = silhouette_score(X, kmeans)\n",
        "v_score_kmeans = v_measure_score(y, kmeans)\n",
        "print(f'Значение силуэта: {silhouette_kmeans}')\n",
        "print(f'Значение v-меры: {v_score_kmeans}')"
      ]
    },
    {
      "cell_type": "markdown",
      "metadata": {
        "id": "imrxn89npx22"
      },
      "source": [
        "Визуализирем центроиды кластеров при алгоритме KMeans без использования методом уменьшения размерности."
      ]
    },
    {
      "cell_type": "code",
      "execution_count": 44,
      "metadata": {
        "id": "0ofChwxmpzpm"
      },
      "outputs": [],
      "source": [
        "def plot_digits(labels):\n",
        "    plt.figure(figsize=(10, 5))\n",
        "    image = X.values.reshape(-1, 28, 28)\n",
        "    for i in range(10):\n",
        "        plt.subplot(2, 5, i+1, xticks=[], yticks=[])\n",
        "        plt.imshow(np.mean(image[labels==i], axis = 0), cmap=plt.cm.gray_r)"
      ]
    },
    {
      "cell_type": "code",
      "execution_count": 45,
      "metadata": {
        "colab": {
          "base_uri": "https://localhost:8080/",
          "height": 279
        },
        "id": "WxtFDJEBp3VN",
        "outputId": "af521ab9-270e-4f59-be54-be342096c8c0"
      },
      "outputs": [
        {
          "output_type": "display_data",
          "data": {
            "text/plain": [
              "<Figure size 720x360 with 10 Axes>"
            ],
            "image/png": "[encoded data removed]"
          },
          "metadata": {}
        }
      ],
      "source": [
        "plot_digits(kmeans)"
      ]
    },
    {
      "cell_type": "markdown",
      "metadata": {
        "id": "68XAB7f0k5q6"
      },
      "source": [
        "Для улучшения разбиения нашего датасета на кластеры воспользуемся различными методами уменьшения размерности."
      ]
    },
    {
      "cell_type": "code",
      "execution_count": 46,
      "metadata": {
        "colab": {
          "base_uri": "https://localhost:8080/"
        },
        "id": "zfwtPEZFSwmo",
        "outputId": "14430c8f-7e9c-4cfc-b9f8-0710dd5d1159"
      },
      "outputs": [
        {
          "output_type": "stream",
          "name": "stdout",
          "text": [
            "Значение силуэта: 0.16951447254965898\n",
            "Значение v-меры: 0.4660846015298152\n"
          ]
        }
      ],
      "source": [
        "### метод SVD\n",
        "SVD = TruncatedSVD(n_components=10)\n",
        "X_new=SVD.fit_transform(X)\n",
        "kmeans_svd = model_kmeans.fit_predict(X_new)\n",
        "silhouette_kmeans_svd = silhouette_score(X_new, kmeans_svd)\n",
        "v_score_kmeans_svd = v_measure_score(y, kmeans_svd)\n",
        "print(f'Значение силуэта: {silhouette_kmeans_svd}')\n",
        "print(f'Значение v-меры: {v_score_kmeans_svd}')"
      ]
    },
    {
      "cell_type": "code",
      "execution_count": 47,
      "metadata": {
        "colab": {
          "base_uri": "https://localhost:8080/"
        },
        "id": "9-r71d60Swmo",
        "outputId": "d2e91b36-9d94-45b2-d43d-54c6f64fd978"
      },
      "outputs": [
        {
          "output_type": "stream",
          "name": "stderr",
          "text": [
            "/usr/local/lib/python3.7/dist-packages/sklearn/manifold/_t_sne.py:783: FutureWarning: The default initialization in TSNE will change from 'random' to 'pca' in 1.2.\n",
            "  FutureWarning,\n",
            "/usr/local/lib/python3.7/dist-packages/sklearn/manifold/_t_sne.py:793: FutureWarning: The default learning rate in TSNE will change from 200.0 to 'auto' in 1.2.\n",
            "  FutureWarning,\n"
          ]
        },
        {
          "output_type": "stream",
          "name": "stdout",
          "text": [
            "Значение силуэта: 0.409658819437027\n",
            "Значение v-меры: 0.814247827201798\n"
          ]
        }
      ],
      "source": [
        "### метод tSNE\n",
        "X_tsne = TSNE(n_components=2).fit_transform(X)\n",
        "kmeans_tsne = model_kmeans.fit_predict(X_tsne)\n",
        "silhouette_kmeans_tsne = silhouette_score(X_tsne, kmeans_tsne)\n",
        "v_score_kmeans_tsne = v_measure_score(y, kmeans_tsne)\n",
        "print(f'Значение силуэта: {silhouette_kmeans_tsne}')\n",
        "print(f'Значение v-меры: {v_score_kmeans_tsne}')"
      ]
    },
    {
      "cell_type": "code",
      "execution_count": 48,
      "metadata": {
        "colab": {
          "base_uri": "https://localhost:8080/"
        },
        "id": "fUqWzio_jlAF",
        "outputId": "7ec864d3-9cca-43c0-e170-aa5dd8a5bc2a"
      },
      "outputs": [
        {
          "output_type": "stream",
          "name": "stdout",
          "text": [
            "Requirement already satisfied: umap-learn in /usr/local/lib/python3.7/dist-packages (0.5.3)\n",
            "Requirement already satisfied: numpy>=1.17 in /usr/local/lib/python3.7/dist-packages (from umap-learn) (1.21.6)\n",
            "Requirement already satisfied: pynndescent>=0.5 in /usr/local/lib/python3.7/dist-packages (from umap-learn) (0.5.6)\n",
            "Requirement already satisfied: numba>=0.49 in /usr/local/lib/python3.7/dist-packages (from umap-learn) (0.51.2)\n",
            "Requirement already satisfied: scipy>=1.0 in /usr/local/lib/python3.7/dist-packages (from umap-learn) (1.4.1)\n",
            "Requirement already satisfied: scikit-learn>=0.22 in /usr/local/lib/python3.7/dist-packages (from umap-learn) (1.0.2)\n",
            "Requirement already satisfied: tqdm in /usr/local/lib/python3.7/dist-packages (from umap-learn) (4.64.0)\n",
            "Requirement already satisfied: setuptools in /usr/local/lib/python3.7/dist-packages (from numba>=0.49->umap-learn) (57.4.0)\n",
            "Requirement already satisfied: llvmlite<0.35,>=0.34.0.dev0 in /usr/local/lib/python3.7/dist-packages (from numba>=0.49->umap-learn) (0.34.0)\n",
            "Requirement already satisfied: joblib>=0.11 in /usr/local/lib/python3.7/dist-packages (from pynndescent>=0.5->umap-learn) (1.1.0)\n",
            "Requirement already satisfied: threadpoolctl>=2.0.0 in /usr/local/lib/python3.7/dist-packages (from scikit-learn>=0.22->umap-learn) (3.1.0)\n"
          ]
        }
      ],
      "source": [
        "!pip install umap-learn"
      ]
    },
    {
      "cell_type": "code",
      "execution_count": 49,
      "metadata": {
        "id": "i0rC3jCAlpSx"
      },
      "outputs": [],
      "source": [
        "import umap"
      ]
    },
    {
      "cell_type": "code",
      "execution_count": 50,
      "metadata": {
        "colab": {
          "base_uri": "https://localhost:8080/"
        },
        "id": "8E5ViCqEl5s0",
        "outputId": "6c7ae59b-a271-4ec5-fc9c-6181d8797b4b"
      },
      "outputs": [
        {
          "output_type": "stream",
          "name": "stderr",
          "text": [
            "/usr/local/lib/python3.7/dist-packages/numba/np/ufunc/parallel.py:363: NumbaWarning: The TBB threading layer requires TBB version 2019.5 or later i.e., TBB_INTERFACE_VERSION >= 11005. Found TBB_INTERFACE_VERSION = 9107. The TBB threading layer is disabled.\n",
            "  warnings.warn(problem)\n"
          ]
        }
      ],
      "source": [
        "X_umap = umap.UMAP(n_neighbors=30,n_components=2, random_state=42).fit_transform(X)"
      ]
    },
    {
      "cell_type": "code",
      "execution_count": 51,
      "metadata": {
        "colab": {
          "base_uri": "https://localhost:8080/"
        },
        "id": "f6KJ000LmsYU",
        "outputId": "79a3496a-0f8a-4013-9c19-f19ce37c72b1"
      },
      "outputs": [
        {
          "output_type": "stream",
          "name": "stdout",
          "text": [
            "Значение силуэта: 0.615982711315155\n",
            "Значение v-меры: 0.8411667252486957\n"
          ]
        }
      ],
      "source": [
        "kmeans_umap = model_kmeans.fit_predict(X_umap)\n",
        "silhouette_kmeans_umap = silhouette_score(X_umap, kmeans_umap)\n",
        "v_score_kmeans_umap = v_measure_score(y, kmeans_umap)\n",
        "print(f'Значение силуэта: {silhouette_kmeans_umap}')\n",
        "print(f'Значение v-меры: {v_score_kmeans_umap}')"
      ]
    },
    {
      "cell_type": "markdown",
      "metadata": {
        "id": "P9FsqS05ndQb"
      },
      "source": [
        "На основании расчитаных метрик v-меры и силуэта, можем сделать вывод, что лучший результат разбиения на кластеры достигается при алгоритме KMeans с методом уменьшения размерности UMAP."
      ]
    },
    {
      "cell_type": "markdown",
      "metadata": {
        "id": "pmFxfoqboAza"
      },
      "source": [
        "Визуализирем центроиды кластеров при алгоритме KMeans с методом уменьшения размерности UMAP."
      ]
    },
    {
      "cell_type": "code",
      "execution_count": 52,
      "metadata": {
        "colab": {
          "base_uri": "https://localhost:8080/",
          "height": 279
        },
        "id": "ZuufzwkkoRs5",
        "outputId": "c78a3232-79c0-4a5a-ec36-aa6fb9fb8c1d"
      },
      "outputs": [
        {
          "output_type": "display_data",
          "data": {
            "text/plain": [
              "<Figure size 720x360 with 10 Axes>"
            ],
            "image/png": "[encoded data removed]"
          },
          "metadata": {}
        }
      ],
      "source": [
        "plot_digits(kmeans)"
      ]
    },
    {
      "cell_type": "markdown",
      "metadata": {
        "id": "sGFyEA9dqyvl"
      },
      "source": [
        "Мы видим, что при использовании метода уменьшения размерности UMAP качество незначительно улучшилось. Попробуем вместо алгоритма KMeans использовать DBSCAN и посмотрим, как изменится качество."
      ]
    },
    {
      "cell_type": "code",
      "execution_count": 53,
      "metadata": {
        "id": "eyQh9GWcW9J-"
      },
      "outputs": [],
      "source": [
        "model_DBSCAN = DBSCAN(eps=0.15, min_samples=45)\n",
        "predict_DBSCAN = model_DBSCAN.fit_predict(X_umap)"
      ]
    },
    {
      "cell_type": "code",
      "source": [
        "silhouette_DBSCAN_umap = silhouette_score(X_umap, predict_DBSCAN)\n",
        "v_score_DBSCAN_umap = v_measure_score(y, predict_DBSCAN)\n",
        "print(f'Значение силуэта: {silhouette_DBSCAN_umap}')\n",
        "print(f'Значение v-меры: {v_score_DBSCAN_umap}')"
      ],
      "metadata": {
        "colab": {
          "base_uri": "https://localhost:8080/"
        },
        "id": "4ZE1KxSpCM2F",
        "outputId": "c3ccb386-0ea1-444e-fa1c-362411f0fa3f"
      },
      "execution_count": 54,
      "outputs": [
        {
          "output_type": "stream",
          "name": "stdout",
          "text": [
            "Значение силуэта: 0.48307403922080994\n",
            "Значение v-меры: 0.896598699317439\n"
          ]
        }
      ]
    },
    {
      "cell_type": "markdown",
      "source": [
        "Достигли наилучшего результата метрик v-меры и силуэта при параметрах алгоритма DBSCAN (eps=0.15, min_samples=45). Визуализирем центроиды кластеров при данных настройках."
      ],
      "metadata": {
        "id": "hQnXZkkPMc2u"
      }
    },
    {
      "cell_type": "markdown",
      "metadata": {
        "id": "5487-fcste54"
      },
      "source": [
        "Визуализирем центроиды кластеров при алгоритме  DBSCAN  без использования методом уменьшения размерности."
      ]
    },
    {
      "cell_type": "code",
      "source": [
        "plot_digits(predict_DBSCAN)"
      ],
      "metadata": {
        "colab": {
          "base_uri": "https://localhost:8080/",
          "height": 279
        },
        "id": "beXlGTGQdI_1",
        "outputId": "9b141586-8f09-4d83-af43-5eafd056d350"
      },
      "execution_count": 55,
      "outputs": [
        {
          "output_type": "display_data",
          "data": {
            "text/plain": [
              "<Figure size 720x360 with 10 Axes>"
            ],
            "image/png": "[encoded data removed]"
          },
          "metadata": {}
        }
      ]
    },
    {
      "cell_type": "markdown",
      "metadata": {
        "id": "crDZdKs7qx-5"
      },
      "source": [
        "На основании расчетов и визуализации центроидов кластера мы видим, что достигли наилучшего результата при алгоритме DBSCAN с методом уменьшения размерности данных UMAP. Для этого так же мы подбирали наилучший параметры алгоритма DBSCAN и остановились на таких как eps=0.15, min_samples=45. "
      ]
    },
    {
      "cell_type": "markdown",
      "source": [
        ""
      ],
      "metadata": {
        "id": "Y-sjwWyMPjHP"
      }
    }
  ],
  "metadata": {
    "colab": {
      "name": "clustering (1).ipynb",
      "provenance": []
    },
    "kernelspec": {
      "display_name": "Python 3 (ipykernel)",
      "language": "python",
      "name": "python3"
    },
    "language_info": {
      "codemirror_mode": {
        "name": "ipython",
        "version": 3
      },
      "file_extension": ".py",
      "mimetype": "text/x-python",
      "name": "python",
      "nbconvert_exporter": "python",
      "pygments_lexer": "ipython3",
      "version": "3.9.7"
    }
  },
  "nbformat": 4,
  "nbformat_minor": 0
}